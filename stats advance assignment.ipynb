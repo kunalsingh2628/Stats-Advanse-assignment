{
 "cells": [
  {
   "cell_type": "code",
   "execution_count": null,
   "id": "3d081f04-64b3-4e12-9261-3544b865e272",
   "metadata": {},
   "outputs": [],
   "source": [
    "##Q-1"
   ]
  },
  {
   "cell_type": "code",
   "execution_count": null,
   "id": "e7dffa00-c1b5-4148-81fd-b45417145bc4",
   "metadata": {},
   "outputs": [],
   "source": [
    "In probability theory and statistics, a Probability Density Function (PDF) is a function that describes the likelihood of a continuous random variable taking on a specific value within a certain range. In other words, it provides a way to model the distribution of a continuous random variable.\n",
    "\n",
    "The probability of a continuous random variable falling within a particular interval can be calculated by finding the area under the curve of its PDF over that interval. The total area under the curve of the PDF over its entire range is equal to 1, representing the fact that the random variable must take on some value within its entire range with certainty.\n",
    "\n",
    "Mathematically, the PDF of a continuous random variable X is denoted as f(x) and satisfies the following properties:\n",
    "\n",
    "f(x) ≥ 0 for all x: The probability density function is non-negative for all values of x.\n",
    "∫[a, b] f(x) dx = P(a ≤ X ≤ b): The probability that X falls within the interval [a, b] is equal to the integral of the PDF over that interval."
   ]
  },
  {
   "cell_type": "code",
   "execution_count": null,
   "id": "818d76aa-7e60-49c7-898d-d0d67f8fea20",
   "metadata": {},
   "outputs": [],
   "source": [
    "##Q-2"
   ]
  },
  {
   "cell_type": "code",
   "execution_count": null,
   "id": "f95f649b-62aa-421d-9523-bbfe2d3fc29a",
   "metadata": {},
   "outputs": [],
   "source": [
    "\n",
    "\n",
    "1)Discrete Probability Distributions:\n",
    "\n",
    "Bernoulli distribution\n",
    "Binomial distribution\n",
    "Poisson distribution\n",
    "Geometric distribution\n",
    "Hypergeometric distribution\n",
    "Negative binomial distribution"
   ]
  },
  {
   "cell_type": "code",
   "execution_count": null,
   "id": "d6c20e74-0860-4cbd-a5da-76cb0e084d48",
   "metadata": {},
   "outputs": [],
   "source": [
    "2)Continuous Probability Distributions:\n",
    "\n",
    "Normal (Gaussian) distribution\n",
    "Uniform distribution\n",
    "Exponential distribution\n",
    "Gamma distribution\n",
    "Beta distribution\n",
    "Chi-square distribution\n",
    "Student's t-distribution\n",
    "F-distribution\n",
    "Weibull distribution\n",
    "Logistic distribution"
   ]
  },
  {
   "cell_type": "code",
   "execution_count": 1,
   "id": "f5defec2-ba2e-457d-b2b1-150b648e35b5",
   "metadata": {},
   "outputs": [],
   "source": [
    "##Q-3)"
   ]
  },
  {
   "cell_type": "code",
   "execution_count": 2,
   "id": "cc951637-eff7-4d7c-936d-747cafb25648",
   "metadata": {},
   "outputs": [
    {
     "name": "stdout",
     "output_type": "stream",
     "text": [
      "The PDF at x = 1.5 is: 0.12951759566589174\n"
     ]
    }
   ],
   "source": [
    "import math\n",
    "\n",
    "def normal_pdf(x, mean, std_dev):\n",
    "    \"\"\"\n",
    "    Calculate the probability density function (PDF) of a normal distribution.\n",
    "\n",
    "    Parameters:\n",
    "        x (float): The point at which to calculate the PDF.\n",
    "        mean (float): Mean of the normal distribution.\n",
    "        std_dev (float): Standard deviation of the normal distribution.\n",
    "\n",
    "    Returns:\n",
    "        float: The PDF value at the given point.\n",
    "    \"\"\"\n",
    "    coefficient = 1 / (std_dev * math.sqrt(2 * math.pi))\n",
    "    exponent = -(1/2) * ((x - mean) / std_dev) ** 2\n",
    "    pdf_value = coefficient * math.exp(exponent)\n",
    "    return pdf_value\n",
    "\n",
    "# Example usage:\n",
    "mean = 0.0\n",
    "std_dev = 1.0\n",
    "point = 1.5\n",
    "pdf_at_point = normal_pdf(point, mean, std_dev)\n",
    "print(f\"The PDF at x = {point} is: {pdf_at_point}\")\n"
   ]
  },
  {
   "cell_type": "code",
   "execution_count": 3,
   "id": "5c21de38-0d5f-4328-a446-7a17b3451108",
   "metadata": {},
   "outputs": [],
   "source": [
    "##Q-4)"
   ]
  },
  {
   "cell_type": "code",
   "execution_count": null,
   "id": "8d7516a1-330e-49f7-87df-ded32973f083",
   "metadata": {},
   "outputs": [],
   "source": [
    "Properties of Binomial Distribution:\n",
    "\n",
    "Fixed Number of Trials: The binomial distribution models a fixed number of independent trials, denoted by 'n', where each trial can have only two possible outcomes, often referred to as \"success\" and \"failure.\"\n",
    "\n",
    "Independent Trials: Each trial in the binomial distribution is assumed to be independent, meaning the outcome of one trial does not affect the outcome of other trials.\n",
    "\n",
    "Constant Probability: The probability of success ('p') remains constant for each trial. Similarly, the probability of failure is 1 - p.\n",
    "\n",
    "Discrete Distribution: The binomial distribution is a discrete probability distribution, as it deals with a discrete number of successes in 'n' trials.\n",
    "\n"
   ]
  },
  {
   "cell_type": "code",
   "execution_count": null,
   "id": "ad5ad75a-26ee-41c1-ae8f-7fd4c63a5d0a",
   "metadata": {},
   "outputs": [],
   "source": [
    "##Q-4)"
   ]
  },
  {
   "cell_type": "code",
   "execution_count": 4,
   "id": "895ce014-7b7d-424a-9c32-3ec415eb8336",
   "metadata": {},
   "outputs": [
    {
     "data": {
      "image/png": "[encoded data removed]",
      "text/plain": [
       "<Figure size 640x480 with 1 Axes>"
      ]
     },
     "metadata": {},
     "output_type": "display_data"
    }
   ],
   "source": [
    "import numpy as np\n",
    "import matplotlib.pyplot as plt\n",
    "\n",
    "# Parameters for the binomial distribution\n",
    "sample_size = 1000\n",
    "probability_of_success = 0.4\n",
    "\n",
    "# Generate the random sample from the binomial distribution\n",
    "random_sample = np.random.binomial(n=1, p=probability_of_success, size=sample_size)\n",
    "\n",
    "# Plot the histogram\n",
    "plt.hist(random_sample, bins=2, edgecolor='black', alpha=0.7)\n",
    "plt.xticks([0, 1], ['Failure', 'Success'])\n",
    "plt.xlabel('Outcome')\n",
    "plt.ylabel('Frequency')\n",
    "plt.title('Histogram of Random Sample from Binomial Distribution')\n",
    "plt.grid(True)\n",
    "plt.show()\n"
   ]
  },
  {
   "cell_type": "code",
   "execution_count": null,
   "id": "277d53aa-1134-4a54-a98e-a92df51853d9",
   "metadata": {},
   "outputs": [],
   "source": [
    "##Q-6)"
   ]
  },
  {
   "cell_type": "code",
   "execution_count": 5,
   "id": "fcad96c3-215f-4c90-877c-b1785365f26e",
   "metadata": {},
   "outputs": [
    {
     "name": "stdout",
     "output_type": "stream",
     "text": [
      "Requirement already satisfied: scipy in /opt/conda/lib/python3.10/site-packages (1.9.3)\n",
      "Requirement already satisfied: numpy<1.26.0,>=1.18.5 in /opt/conda/lib/python3.10/site-packages (from scipy) (1.23.5)\n",
      "Note: you may need to restart the kernel to use updated packages.\n"
     ]
    }
   ],
   "source": [
    "pip install scipy\n"
   ]
  },
  {
   "cell_type": "code",
   "execution_count": 1,
   "id": "452cbdc1-aa4c-4bfa-bacf-e50402972107",
   "metadata": {},
   "outputs": [
    {
     "name": "stdout",
     "output_type": "stream",
     "text": [
      "The CDF at x = 5 is: 0.8576135530957782\n"
     ]
    }
   ],
   "source": [
    "from scipy.stats import poisson\n",
    "\n",
    "def poisson_cdf(point, mean):\n",
    "    \"\"\"\n",
    "    Calculate the cumulative distribution function (CDF) of a Poisson distribution.\n",
    "\n",
    "    Parameters:\n",
    "        point (int): The point at which to calculate the CDF.\n",
    "        mean (float): Mean of the Poisson distribution.\n",
    "\n",
    "    Returns:\n",
    "        float: The CDF value at the given point.\n",
    "    \"\"\"\n",
    "    return poisson.cdf(point, mu=mean)\n",
    "\n",
    "# Example usage:\n",
    "mean = 3.5\n",
    "point = 5\n",
    "cdf_at_point = poisson_cdf(point, mean)\n",
    "print(f\"The CDF at x = {point} is: {cdf_at_point}\")\n"
   ]
  },
  {
   "cell_type": "code",
   "execution_count": 2,
   "id": "5995dd95-fea7-41fd-b4fb-9d0148d658a9",
   "metadata": {},
   "outputs": [],
   "source": [
    "##Q-7"
   ]
  },
  {
   "cell_type": "code",
   "execution_count": null,
   "id": "8e751fb1-1521-4db4-b85e-fccdf05913b8",
   "metadata": {},
   "outputs": [],
   "source": [
    "\n",
    "The Binomial distribution and Poisson distribution are two distinct probability distributions, each with its own set of characteristics and use cases. Here are the main differences between the two:\n",
    "\n",
    "Nature of the Events:\n",
    "\n",
    "Binomial Distribution: The binomial distribution models the number of successes (e.g., \"success\" or \"failure,\" \"yes\" or \"no\") in a fixed number of independent Bernoulli trials. Each trial can have only two possible outcomes.\n",
    "Poisson Distribution: The Poisson distribution models the number of events that occur in a fixed interval of time or space. It is used when events happen independently and at a constant average rate.\n",
    "Number of Trials:\n",
    "\n",
    "Binomial Distribution: Requires a fixed number of trials (n) in the experiment. The number of trials is pre-defined and remains constant throughout.\n",
    "Poisson Distribution: Does not require a fixed number of trials. The Poisson distribution deals with events in continuous time or space, and the number of events can range from 0 to infinity.\n",
    "Outcomes:\n",
    "\n",
    "Binomial Distribution: Each trial in the binomial distribution can result in two possible outcomes (success or failure).\n",
    "Poisson Distribution: The Poisson distribution deals with counts of events in a continuous interval, so the outcomes are non-negative integers (0, 1, 2, 3, ...)."
   ]
  },
  {
   "cell_type": "code",
   "execution_count": null,
   "id": "f6f534ef-1c5e-4d94-b2c7-c1974c8a0ca6",
   "metadata": {},
   "outputs": [],
   "source": [
    "Parameters:\n",
    "\n",
    "Binomial Distribution: The binomial distribution is defined by two parameters: the probability of success (p) in each trial and the number of trials (n).\n",
    "Poisson Distribution: The Poisson distribution is defined by a single parameter: the average rate (λ) at which events occur in the given interval.\n",
    "Assumptions:\n",
    "\n",
    "Binomial Distribution: Assumes that each trial is independent of the others, and the probability of success (p) remains constant throughout all trials.\n",
    "Poisson Distribution: Assumes that events occur independently and at a constant rate within a fixed interval.\n",
    "Applicability:\n",
    "\n",
    "Binomial Distribution: Used when dealing with a fixed number of trials and binary outcomes, such as coin tosses, success/failure experiments, or manufacturing defects.\n",
    "Poisson Distribution: Used to model rare events that occur at a constant average rate within a specified interval, such as the number of accidents per day or the number of customer arrivals per hour."
   ]
  },
  {
   "cell_type": "code",
   "execution_count": 3,
   "id": "f05db75b-981e-4d92-a3da-dcdc758e08c1",
   "metadata": {},
   "outputs": [],
   "source": [
    "##Q-8)"
   ]
  },
  {
   "cell_type": "code",
   "execution_count": 4,
   "id": "adaab20b-2b1d-4fca-9c87-0c49323f5790",
   "metadata": {},
   "outputs": [
    {
     "name": "stdout",
     "output_type": "stream",
     "text": [
      "Requirement already satisfied: numpy in /opt/conda/lib/python3.10/site-packages (1.23.5)\n",
      "Note: you may need to restart the kernel to use updated packages.\n"
     ]
    }
   ],
   "source": [
    "pip install numpy\n"
   ]
  },
  {
   "cell_type": "code",
   "execution_count": 1,
   "id": "b25f6179-5b4d-4950-9f9f-d2a1d710e4b2",
   "metadata": {},
   "outputs": [
    {
     "name": "stdout",
     "output_type": "stream",
     "text": [
      "Sample Mean: 5.01\n",
      "Sample Variance: 4.86\n"
     ]
    }
   ],
   "source": [
    "import numpy as np\n",
    "\n",
    "# Parameters for the Poisson distribution\n",
    "sample_size = 1000\n",
    "mean = 5\n",
    "\n",
    "# Generate the random sample from the Poisson distribution\n",
    "random_sample = np.random.poisson(lam=mean, size=sample_size)\n",
    "\n",
    "# Calculate the sample mean and variance\n",
    "sample_mean = np.mean(random_sample)\n",
    "sample_variance = np.var(random_sample)\n",
    "\n",
    "print(f\"Sample Mean: {sample_mean:.2f}\")\n",
    "print(f\"Sample Variance: {sample_variance:.2f}\")\n"
   ]
  },
  {
   "cell_type": "code",
   "execution_count": 2,
   "id": "4fa312db-caa2-402a-bc4a-53ad693a1fd9",
   "metadata": {},
   "outputs": [],
   "source": [
    "##9)"
   ]
  },
  {
   "cell_type": "code",
   "execution_count": null,
   "id": "144191db-58c6-4305-9f18-ff907a65f9c6",
   "metadata": {},
   "outputs": [],
   "source": []
  },
  {
   "cell_type": "code",
   "execution_count": null,
   "id": "cc62665f-0785-442d-a79a-72cbf7ab560e",
   "metadata": {},
   "outputs": [],
   "source": []
  },
  {
   "cell_type": "code",
   "execution_count": null,
   "id": "f530bf13-2c86-4f35-8f80-7936d98be8a8",
   "metadata": {},
   "outputs": [],
   "source": []
  },
  {
   "cell_type": "code",
   "execution_count": null,
   "id": "43fc85f9-52d6-4d38-8d23-8df7bc7783db",
   "metadata": {},
   "outputs": [],
   "source": []
  },
  {
   "cell_type": "code",
   "execution_count": null,
   "id": "197dbe9a-d869-4615-9c01-1cfa53baf1b2",
   "metadata": {},
   "outputs": [],
   "source": []
  },
  {
   "cell_type": "code",
   "execution_count": null,
   "id": "3173a0e1-64a0-4060-baec-ff36dfe73fd5",
   "metadata": {},
   "outputs": [],
   "source": []
  }
 ],
 "metadata": {
  "kernelspec": {
   "display_name": "Python 3 (ipykernel)",
   "language": "python",
   "name": "python3"
  },
  "language_info": {
   "codemirror_mode": {
    "name": "ipython",
    "version": 3
   },
   "file_extension": ".py",
   "mimetype": "text/x-python",
   "name": "python",
   "nbconvert_exporter": "python",
   "pygments_lexer": "ipython3",
   "version": "3.10.8"
  }
 },
 "nbformat": 4,
 "nbformat_minor": 5
}
